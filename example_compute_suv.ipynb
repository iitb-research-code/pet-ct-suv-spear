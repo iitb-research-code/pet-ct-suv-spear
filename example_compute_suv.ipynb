{
 "cells": [
  {
   "cell_type": "code",
   "execution_count": 154,
   "outputs": [],
   "source": [
    "import os\n",
    "import pydicom\n",
    "import numpy as np\n",
    "import datetime\n",
    "import traceback\n",
    "import matplotlib.pyplot as plt"
   ],
   "metadata": {
    "collapsed": false,
    "pycharm": {
     "name": "#%%\n"
    }
   }
  },
  {
   "cell_type": "code",
   "execution_count": 155,
   "outputs": [],
   "source": [
    "file_path = 'dicom_files/Image0023.dcm'"
   ],
   "metadata": {
    "collapsed": false,
    "pycharm": {
     "name": "#%%\n"
    }
   }
  },
  {
   "cell_type": "code",
   "execution_count": 156,
   "outputs": [],
   "source": [
    "df = pydicom.dcmread(file_path)"
   ],
   "metadata": {
    "collapsed": false,
    "pycharm": {
     "name": "#%%\n"
    }
   }
  },
  {
   "cell_type": "code",
   "execution_count": 157,
   "outputs": [
    {
     "data": {
      "text/plain": "Dataset.file_meta -------------------------------\n(0002, 0000) File Meta Information Group Length  UL: 192\n(0002, 0001) File Meta Information Version       OB: b'\\x00\\x01'\n(0002, 0002) Media Storage SOP Class UID         UI: Positron Emission Tomography Image Storage\n(0002, 0003) Media Storage SOP Instance UID      UI: 1.3.46.670589.28.2.15.30.26408.8305.3.2076.165.1418036529\n(0002, 0010) Transfer Syntax UID                 UI: Explicit VR Little Endian\n(0002, 0012) Implementation Class UID            UI: 1.3.46.670589.54.2.18.1\n(0002, 0013) Implementation Version Name         SH: '18.1.0.0'\n-------------------------------------------------\n(0004, 1430) Directory Record Type               CS: 'IMAGE'\n(0008, 0005) Specific Character Set              CS: 'ISO_IR 100'\n(0008, 0008) Image Type                          CS: ['ORIGINAL', 'PRIMARY']\n(0008, 0012) Instance Creation Date              DA: '20141208'\n(0008, 0013) Instance Creation Time              TM: '162350'\n(0008, 0016) SOP Class UID                       UI: Positron Emission Tomography Image Storage\n(0008, 0018) SOP Instance UID                    UI: 1.3.46.670589.28.2.15.30.26408.8305.3.2076.165.1418036529\n(0008, 0020) Study Date                          DA: '20141208'\n(0008, 0021) Series Date                         DA: '20141208'\n(0008, 0022) Acquisition Date                    DA: '20141208'\n(0008, 0023) Content Date                        DA: '20141208'\n(0008, 002a) Acquisition DateTime                DT: '20141208163128.333'\n(0008, 0030) Study Time                          TM: '161624'\n(0008, 0031) Series Time                         TM: '162858'\n(0008, 0032) Acquisition Time                    TM: '163128.333'\n(0008, 0033) Content Time                        TM: '162350'\n(0008, 0050) Accession Number                    SH: ''\n(0008, 0056) Instance Availability               CS: ''\n(0008, 0060) Modality                            CS: 'PT'\n(0008, 0061) Modalities in Study                 CS: ''\n(0008, 0070) Manufacturer                        LO: 'Philips Medical Systems'\n(0008, 0080) Institution Name                    LO: '<TATA MEMORIAL HOSP>'\n(0008, 0090) Referring Physician's Name          PN: 'Unspecified'\n(0008, 1010) Station Name                        SH: 'r562-svr'\n(0008, 1030) Study Description                   LO: 'Unspecified Merge Only CT'\n(0008, 103e) Series Description                  LO: '[PREVIEW] WB PET'\n(0008, 1048) Physician(s) of Record              PN: 'DMG ADULT HEMATOLOGY^^^^'\n(0008, 1050) Performing Physician's Name         PN: ''\n(0008, 1060) Name of Physician(s) Reading Study  PN: ''\n(0008, 1090) Manufacturer's Model Name           LO: 'GEMINI TF TOF 64'\n(0008, 1110)  Referenced Study Sequence  1 item(s) ---- \n   (0008, 1150) Referenced SOP Class UID            UI: 1.2.840.100008.3.1.2.3.1\n   (0008, 1155) Referenced SOP Instance UID         UI: 1.2.840.113619.2.182.121213310084235152.1417686573.1322013\n   ---------\n(0008, 1111)  Referenced Performed Procedure Step Sequence  1 item(s) ---- \n   (0008, 1150) Referenced SOP Class UID            UI: Modality Performed Procedure Step SOP Class\n   (0008, 1155) Referenced SOP Instance UID         UI: 1.2.840.113704.1.111.5208.1418035584.1\n   ---------\n(0008, 1250)  Related Series Sequence  1 item(s) ---- \n   (0020, 000d) Study Instance UID                  UI: 1.2.840.113619.2.182.121213310084235152.1417686573.1322013\n   (0020, 000e) Series Instance UID                 UI: 1.2.840.113704.1.111.5208.1418036033.12\n   (0040, a170)  Purpose of Reference Code Sequence  1 item(s) ---- \n      (0008, 0100) Code Value                          SH: '122403'\n      (0008, 0102) Coding Scheme Designator            SH: 'DCM'\n      (0008, 0104) Code Meaning                        LO: 'For Attenuation Correction'\n      ---------\n   ---------\n(0008, 9121)  Referenced Raw Data Sequence  1 item(s) ---- \n   (0008, 1150) Referenced SOP Class UID            UI: Raw Data Storage\n   (0008, 1155) Referenced SOP Instance UID         UI: 1.3.46.670589.28.2.15.2216080234.3.11421.0.1418036339\n   ---------\n(0009, 0010) Private Creator                     LO: 'GEIIS'\n(0009, 1012) [Unknown]                           IS: '1'\n(0010, 0010) Patient's Name                      PN: 'PRAMOD^KANTARAM^SHINDE'\n(0010, 0020) Patient ID                          LO: 'CL/34437'\n(0010, 0021) Issuer of Patient ID                LO: '083G02:20110528:204702843:191011'\n(0010, 0030) Patient's Birth Date                DA: '19911215'\n(0010, 0032) Patient's Birth Time                TM: ''\n(0010, 0040) Patient's Sex                       CS: 'M'\n(0010, 1020) Patient's Size                      DS: '1.7'\n(0010, 1030) Patient's Weight                    DS: '60.0'\n(0010, 1040) Patient's Address                   LO: ''\n(0018, 0015) Body Part Examined                  CS: ''\n(0018, 0050) Slice Thickness                     DS: '4.0'\n(0018, 1000) Device Serial Number                LO: '7562'\n(0018, 1020) Software Versions                   LO: ['9.6.1', 'PMSPT1.44']\n(0018, 1030) Protocol Name                       LO: 'Body/WB_PET-NCCT_(23'\n(0018, 1100) Reconstruction Diameter             DS: '576.0'\n(0018, 1147) Field of View Shape                 CS: 'CYLINDRICAL RING'\n(0018, 1149) Field of View Dimension(s)          IS: [903, 180]\n(0018, 1181) Collimator Type                     CS: 'NONE'\n(0018, 1242) Actual Frame Duration               IS: '44948'\n(0018, 5100) Patient Position                    CS: 'FFS'\n(0020, 000d) Study Instance UID                  UI: 1.2.840.113619.2.94.1418073696858.24169591195232.59632.19530\n(0020, 000e) Series Instance UID                 UI: 1.2.840.113619.2.94.485651714850.2.1463172.2779039.1\n(0020, 0010) Study ID                            SH: '19560'\n(0020, 0011) Series Number                       IS: '365290'\n(0020, 0013) Instance Number                     IS: '49'\n(0020, 0032) Image Position (Patient)            DS: [-286.585938, -216.585938, -828.5]\n(0020, 0037) Image Orientation (Patient)         DS: [1, 0, 0, 0, 1, 0]\n(0020, 0052) Frame of Reference UID              UI: 1.2.840.113704.1.111.5208.1418035921.5\n(0020, 1040) Position Reference Indicator        LO: ''\n(0020, 1041) Slice Location                      DS: '-828.5'\n(0020, 4000) Image Comments                      LT: ''\n(0028, 0002) Samples per Pixel                   US: 1\n(0028, 0004) Photometric Interpretation          CS: 'MONOCHROME2'\n(0028, 0006) Planar Configuration                US: 0\n(0028, 0010) Rows                                US: 144\n(0028, 0011) Columns                             US: 144\n(0028, 0030) Pixel Spacing                       DS: [4, 4]\n(0028, 0034) Pixel Aspect Ratio                  IS: None\n(0028, 0051) Corrected Image                     CS: ['DECY', 'RADL', 'ATTN', 'DTIM', 'RAN', 'NORM']\n(0028, 0100) Bits Allocated                      US: 16\n(0028, 0101) Bits Stored                         US: 16\n(0028, 0102) High Bit                            US: 15\n(0028, 0103) Pixel Representation                US: 0\n(0028, 0106) Smallest Image Pixel Value          US: 0\n(0028, 0107) Largest Image Pixel Value           US: 1371\n(0028, 1050) Window Center                       DS: None\n(0028, 1052) Rescale Intercept                   DS: '0.0'\n(0028, 1053) Rescale Slope                       DS: '1.0'\n(0032, 1033) Requesting Service                  LO: 'Unspecified'\n(0032, 4000) Study Comments                      LT: ''\n(0038, 0010) Admission ID                        LO: 'CL/34437'\n(0038, 0300) Current Patient Location            LO: ''\n(0040, 0244) Performed Procedure Step Start Date DA: '20141208'\n(0040, 0245) Performed Procedure Step Start Time TM: '161624'\n(0040, 0253) Performed Procedure Step ID         SH: '195608'\n(0040, 0254) Performed Procedure Step Descriptio LO: 'PET CT Scan Whole Body (Non Contrast)'\n(0040, 0275)  Request Attributes Sequence  1 item(s) ---- \n   (0040, 1001) Requested Procedure ID              SH: ''\n   ---------\n(0040, 2017) Filler Order Number / Imaging Servi LO: 'WAAPT14014363'\n(0054, 0016)  Radiopharmaceutical Information Sequence  1 item(s) ---- \n   (0018, 0031) Radiopharmaceutical                 LO: 'Fluorodeoxyglucose F^18^'\n   (0018, 1070) Radiopharmaceutical Route           LO: 'Intravenous route'\n   (0018, 1072) Radiopharmaceutical Start Time      TM: '153500'\n   (0018, 1074) Radionuclide Total Dose             DS: '227180000.0'\n   (0018, 1075) Radionuclide Half Life              DS: '6586.199707'\n   (0018, 1076) Radionuclide Positron Fraction      DS: '0.967'\n   (0018, 1078) Radiopharmaceutical Start DateTime  DT: '20141208153500'\n   (0054, 0300)  Radionuclide Code Sequence  1 item(s) ---- \n      (0008, 0100) Code Value                          SH: 'C-111A1'\n      (0008, 0102) Coding Scheme Designator            SH: 'SNM3'\n      (0008, 0104) Code Meaning                        LO: '^18^Fluorine'\n      ---------\n   (0054, 0302)  Administration Route Code Sequence  1 item(s) ---- \n      (0008, 0100) Code Value                          SH: 'G-D101'\n      (0008, 0102) Coding Scheme Designator            SH: 'SNM3'\n      (0008, 0104) Code Meaning                        LO: 'Intravenous route'\n      ---------\n   (0054, 0304)  Radiopharmaceutical Code Sequence  1 item(s) ---- \n      (0008, 0100) Code Value                          SH: 'C-B1031'\n      (0008, 0102) Coding Scheme Designator            SH: 'SRT'\n      (0008, 0104) Code Meaning                        LO: 'Fluorodeoxyglucose F^18^'\n      ---------\n   ---------\n(0054, 0081) Number of Slices                    US: 213\n(0054, 0202) Type of Detector Motion             CS: 'NONE'\n(0054, 0410)  Patient Orientation Code Sequence  1 item(s) ---- \n   (0008, 0100) Code Value                          SH: 'F-10450'\n   (0008, 0102) Coding Scheme Designator            SH: '99SDM'\n   (0008, 0104) Code Meaning                        LO: 'recumbent'\n   (0054, 0412)  Patient Orientation Modifier Code Sequence  1 item(s) ---- \n      (0008, 0100) Code Value                          SH: 'F-10340'\n      (0008, 0102) Coding Scheme Designator            SH: '99SDM'\n      (0008, 0104) Code Meaning                        LO: 'supine'\n      ---------\n   ---------\n(0054, 0414)  Patient Gantry Relationship Code Sequence  1 item(s) ---- \n   (0008, 0100) Code Value                          SH: 'G-5191'\n   (0008, 0102) Coding Scheme Designator            SH: '99SDM'\n   (0008, 0104) Code Meaning                        LO: 'feet-first'\n   ---------\n(0054, 1000) Series Type                         CS: ['WHOLE BODY', 'IMAGE']\n(0054, 1001) Units                               CS: 'CNTS'\n(0054, 1002) Counts Source                       CS: 'EMISSION'\n(0054, 1100) Randoms Correction Method           CS: 'DLYD'\n(0054, 1101) Attenuation Correction Method       LO: 'CTAC-SG'\n(0054, 1102) Decay Correction                    CS: 'START'\n(0054, 1103) Reconstruction Method               LO: '3D-RAMLA'\n(0054, 1105) Scatter Correction Method           LO: 'NONE'\n(0054, 1300) Frame Reference Time                DS: '172948.0'\n(0054, 1321) Decay Factor                        DS: '1.0'\n(0054, 1330) Image Index                         US: 49\n(00e1, 0010) Private Creator                     LO: 'ELSCINT1'\n(00e1, 10c2) [Unknown]                           UI: 1.2.840.113704.1.111.5804.1418035585.56\n(01e1, 0010) Private Creator                     LO: 'ELSCINT1'\n(01e1, 1040) Private tag data                    UI: 1.2.840.113619.2.94.1418073696858.24169591195232.59632.19530\n(0903, 0010) Private Creator                     LO: 'GEIIS PACS'\n(0903, 1010) [Reject Image Flag]                 US: 0\n(0903, 1011) [Significant Flag]                  US: 0\n(0903, 1012) [Confidential Flag]                 US: 0\n(0905, 0010) Private Creator                     LO: 'GEIIS'\n(0905, 1030) [Assigning Authority For Patient ID LO: '083G02:20110528:204702843:191011'\n(0907, 0010) Private Creator                     LO: 'GEIIS'\n(0907, 1010) [Original Study Instance UID]       UI: 1.2.840.113619.2.182.121213310084235152.1417686573.1322013\n(2001, 0010) Private Creator                     LO: 'Philips Imaging DD 002'\n(2001, 10b1) Private tag data                    LT: '2145386512:'\n(5005, 0010) Private Creator                     LO: 'ELSCINT1'\n(5005, 1010) Private tag data                    ST: 'D:\\\\Philips\\\\Database\\\\Bulk\\\\S195600\\\\S36520\\\\00001\\\\Image0023.dcm'\n(7053, 0010) Private Creator                     LO: 'Philips PET Private Group'\n(7053, 1001) [Private]                           OB: Array of 8704 elements\n(7053, 1002) [Private]                           OB: Array of 512 elements\n(7053, 1003) [Original image file name]          ST: 'p3051s0_wb_ctac_sms.img'\n(7053, 1005) [Worklist Info File Name]           LO: 'p3051s0_wb.wls'\n(7053, 1006) [Unknown]                           OB: Array of 2182 elements\n(7053, 1013) [Unknown]                           SS: 0\n(7053, 1014) [Unknown]                           SS: 0\n(7053, 1015) [Unknown]                           SS: 0\n(7053, 1016) [Unknown]                           SS: 0\n(7053, 1017) [Unknown]                           SS: 0\n(7053, 1018) [Unknown]                           SS: 0\n(7053, 10c2) [Unknown]                           UI: 1.2.840.113704.1.111.5804.1418035585.56\n(7fd1, 0010) Private Creator                     LO: 'GEIIS'\n(7fd1, 1010) [GE IIS Compression ID]             UL: 0\n(7fe0, 0010) Pixel Data                          OB: Array of 41472 elements"
     },
     "execution_count": 157,
     "metadata": {},
     "output_type": "execute_result"
    }
   ],
   "source": [
    "df"
   ],
   "metadata": {
    "collapsed": false,
    "pycharm": {
     "name": "#%%\n"
    }
   }
  },
  {
   "cell_type": "code",
   "execution_count": 158,
   "outputs": [],
   "source": [
    "# Extracting relevant information from dicom file\n",
    "\n",
    "\n",
    "# Getting patient weight\n",
    "try:\n",
    "    weight_grams = float(df.PatientWeight) * 1000\n",
    "except:\n",
    "    traceback.print_exc()\n",
    "    weight_grams = 75000\n",
    "    estimated = True\n",
    "\n",
    "try:\n",
    "    # Get Scan time\n",
    "    # print(df.AcquisitionTime)\n",
    "\n",
    "    if '.' not in df.AcquisitionTime:\n",
    "        scantime = datetime.datetime.strptime(df.AcquisitionTime + '.000000','%H%M%S.%f')\n",
    "    else:\n",
    "        scantime = datetime.datetime.strptime(df.AcquisitionTime,'%H%M%S.%f')\n",
    "\n",
    "    # print(scantime)\n",
    "    # Start Time for the Radio pharmaceutical Injection\n",
    "\n",
    "    # if '.' not in df.RadiopharmaceuticalInformationSequence[0].RadiopharmaceuticalStartDateTime:\n",
    "    #     injection_time = datetime.datetime.strptime(df.RadiopharmaceuticalInformationSequence[0].RadiopharmaceuticalStartDateTime + '.00000','%H%M%S.%f')\n",
    "    # else:\n",
    "    #     injection_time = datetime.datetime.strptime(df.RadiopharmaceuticalInformationSequence[0].RadiopharmaceuticalStartDateTime,'%H%M%S.%f')\n",
    "\n",
    "    if '.' not in df.RadiopharmaceuticalInformationSequence[0].RadiopharmaceuticalStartTime:\n",
    "        injection_time = datetime.datetime.strptime(df.RadiopharmaceuticalInformationSequence[0].RadiopharmaceuticalStartTime + '.000000', '%H%M%S.%f')\n",
    "    else:\n",
    "        injection_time = datetime.datetime.strptime(df.RadiopharmaceuticalInformationSequence[0].RadiopharmaceuticalStartTime, '%H%M%S.%f')\n",
    "\n",
    "    # Half Life for Radionuclide # seconds\n",
    "    half_life = float(df.RadiopharmaceuticalInformationSequence[0].RadionuclideHalfLife)\n",
    "    # Total dose injected for Radionuclide\n",
    "    injected_dose = float(df.RadiopharmaceuticalInformationSequence[0].RadionuclideTotalDose)\n",
    "\n",
    "    # Calculate decay\n",
    "    decay = np.exp(-np.log(2) * (scantime - injection_time).seconds / half_life)\n",
    "    # print(decay)\n",
    "    # Calculate the dose decayed during procedure\n",
    "    injected_dose_decay = injected_dose * decay  # in Bq\n",
    "except:\n",
    "    traceback.print_exc()\n",
    "    decay = np.exp(-np.log(2) * (1.75 * 3600) / 6588)  # 90 min waiting time, 15 min preparation\n",
    "    injected_dose_decay = 420000000 * decay  # 420 MBq\n",
    "    estimated = True"
   ],
   "metadata": {
    "collapsed": false,
    "pycharm": {
     "name": "#%%\n"
    }
   }
  },
  {
   "cell_type": "code",
   "execution_count": 159,
   "outputs": [],
   "source": [
    "raw = df.pixel_array\n",
    "\n",
    "# Using corrections using rescale slope and rescale intercept\n",
    "raw = raw * df.RescaleSlope + df.RescaleIntercept\n",
    "\n",
    "suv = raw * weight_grams / injected_dose_decay"
   ],
   "metadata": {
    "collapsed": false,
    "pycharm": {
     "name": "#%%\n"
    }
   }
  },
  {
   "cell_type": "code",
   "execution_count": 160,
   "outputs": [
    {
     "data": {
      "text/plain": "0.5172150225283814"
     },
     "execution_count": 160,
     "metadata": {},
     "output_type": "execute_result"
    }
   ],
   "source": [
    "# Max SUV\n",
    "np.max(suv)"
   ],
   "metadata": {
    "collapsed": false,
    "pycharm": {
     "name": "#%%\n"
    }
   }
  },
  {
   "cell_type": "code",
   "execution_count": 167,
   "outputs": [
    {
     "data": {
      "text/plain": "<Figure size 720x720 with 1 Axes>",
      "image/png": "[encoded data removed]"
     },
     "metadata": {
      "needs_background": "light"
     },
     "output_type": "display_data"
    }
   ],
   "source": [
    "plt.figure(figsize=(10, 10))\n",
    "plt.imshow(suv, cmap='gray')\n",
    "plt.show()"
   ],
   "metadata": {
    "collapsed": false,
    "pycharm": {
     "name": "#%%\n"
    }
   }
  },
  {
   "cell_type": "code",
   "execution_count": 162,
   "outputs": [],
   "source": [
    "def get_suv_max(dicom_file_path):\n",
    "\n",
    "    df = pydicom.dcmread(dicom_file_path)\n",
    "\n",
    "    # Extracting relevant information from dicom file\n",
    "\n",
    "\n",
    "    # Getting patient weight\n",
    "    try:\n",
    "        weight_grams = float(df.PatientWeight) * 1000\n",
    "    except:\n",
    "        traceback.print_exc()\n",
    "        weight_grams = 75000\n",
    "        estimated = True\n",
    "\n",
    "    try:\n",
    "        # Get Scan time\n",
    "        # print(df.AcquisitionTime)\n",
    "\n",
    "        if '.' not in df.AcquisitionTime:\n",
    "            scantime = datetime.datetime.strptime(df.AcquisitionTime + '.000000','%H%M%S.%f')\n",
    "        else:\n",
    "            scantime = datetime.datetime.strptime(df.AcquisitionTime,'%H%M%S.%f')\n",
    "\n",
    "        # print(scantime)\n",
    "        # Start Time for the Radio pharmaceutical Injection\n",
    "\n",
    "        # if '.' not in df.RadiopharmaceuticalInformationSequence[0].RadiopharmaceuticalStartDateTime:\n",
    "        #     injection_time = datetime.datetime.strptime(df.RadiopharmaceuticalInformationSequence[0].RadiopharmaceuticalStartDateTime + '.00000','%H%M%S.%f')\n",
    "        # else:\n",
    "        #     injection_time = datetime.datetime.strptime(df.RadiopharmaceuticalInformationSequence[0].RadiopharmaceuticalStartDateTime,'%H%M%S.%f')\n",
    "\n",
    "        if '.' not in df.RadiopharmaceuticalInformationSequence[0].RadiopharmaceuticalStartTime:\n",
    "            injection_time = datetime.datetime.strptime(df.RadiopharmaceuticalInformationSequence[0].RadiopharmaceuticalStartTime + '.000000', '%H%M%S.%f')\n",
    "        else:\n",
    "            injection_time = datetime.datetime.strptime(df.RadiopharmaceuticalInformationSequence[0].RadiopharmaceuticalStartTime, '%H%M%S.%f')\n",
    "        \n",
    "        # Half Life for Radionuclide # seconds\n",
    "        half_life = float(df.RadiopharmaceuticalInformationSequence[0].RadionuclideHalfLife)\n",
    "        # Total dose injected for Radionuclide\n",
    "        injected_dose = float(df.RadiopharmaceuticalInformationSequence[0].RadionuclideTotalDose)\n",
    "\n",
    "        # Calculate decay\n",
    "        decay = np.exp(-np.log(2) * (scantime - injection_time).seconds / half_life)\n",
    "        # Calculate the dose decayed during procedure\n",
    "        injected_dose_decay = injected_dose * decay  # in Bq\n",
    "    except:\n",
    "        traceback.print_exc()\n",
    "        decay = np.exp(-np.log(2) * (1.75 * 3600) / 6588)  # 90 min waiting time, 15 min preparation\n",
    "        injected_dose_decay = 420000000 * decay  # 420 MBq\n",
    "        estimated = True\n",
    "\n",
    "    # Calculate SUV # g/ml\n",
    "    raw = df.pixel_array\n",
    "\n",
    "    # Using corrections using rescale slope and rescale intercept\n",
    "    raw = raw * df.RescaleSlope + df.RescaleIntercept\n",
    "\n",
    "    suv = raw * weight_grams / injected_dose_decay\n",
    "\n",
    "    return np.max(suv)"
   ],
   "metadata": {
    "collapsed": false,
    "pycharm": {
     "name": "#%%\n"
    }
   }
  },
  {
   "cell_type": "code",
   "execution_count": 163,
   "outputs": [],
   "source": [
    "suv_arr = []\n",
    "dicom_files = os.listdir('dicom_files')\n",
    "for i in range(len(dicom_files)):\n",
    "\n",
    "    suv_arr.append(get_suv_max(f'dicom_files/{dicom_files[i]}'))"
   ],
   "metadata": {
    "collapsed": false,
    "pycharm": {
     "name": "#%%\n"
    }
   }
  },
  {
   "cell_type": "code",
   "execution_count": 164,
   "outputs": [],
   "source": [
    "np.max(suv_arr)"
   ],
   "metadata": {
    "collapsed": false,
    "pycharm": {
     "name": "#%%\n"
    }
   }
  },
  {
   "cell_type": "code",
   "execution_count": 164,
   "outputs": [],
   "source": [],
   "metadata": {
    "collapsed": false,
    "pycharm": {
     "name": "#%%\n"
    }
   }
  }
 ],
 "metadata": {
  "kernelspec": {
   "display_name": "Python 3",
   "language": "python",
   "name": "python3"
  },
  "language_info": {
   "codemirror_mode": {
    "name": "ipython",
    "version": 2
   },
   "file_extension": ".py",
   "mimetype": "text/x-python",
   "name": "python",
   "nbconvert_exporter": "python",
   "pygments_lexer": "ipython2",
   "version": "2.7.6"
  }
 },
 "nbformat": 4,
 "nbformat_minor": 0
}